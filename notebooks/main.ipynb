{
  "cells": [
    {
      "cell_type": "markdown",
      "metadata": {
        "id": "view-in-github",
        "colab_type": "text"
      },
      "source": [
        "<a href=\"https://colab.research.google.com/github/proville/G4G-CVI/blob/main/notebooks/main.ipynb\" target=\"_parent\"><img src=\"https://colab.research.google.com/assets/colab-badge.svg\" alt=\"Open In Colab\"/></a>"
      ]
    },
    {
      "cell_type": "markdown",
      "metadata": {
        "id": "z9EMVPaihzCN"
      },
      "source": [
        "#### Earth Engine Python App"
      ]
    },
    {
      "cell_type": "code",
      "execution_count": null,
      "metadata": {
        "id": "TKZ2N5_HhzCP"
      },
      "outputs": [],
      "source": [
        "PROJECT='cvi-custom-data-viewer'"
      ]
    },
    {
      "cell_type": "code",
      "execution_count": null,
      "metadata": {
        "id": "B35VXQWnhzCT"
      },
      "outputs": [],
      "source": [
        "from google.auth import compute_engine\n",
        "import ipywidgets as widgets\n",
        "import ee"
      ]
    },
    {
      "cell_type": "code",
      "execution_count": null,
      "metadata": {
        "id": "jHYB0Hg5hzCU"
      },
      "outputs": [],
      "source": [
        "# initialize Earth Engine using default service account, assumming the PROJECT has Earth Engine enabled\n",
        "credentials = compute_engine.Credentials(scopes=['https://www.googleapis.com/auth/earthengine'])\n",
        "ee.Initialize(credentials, project=PROJECT)"
      ]
    },
    {
      "cell_type": "code",
      "execution_count": null,
      "metadata": {
        "id": "EenCg85HhzCU",
        "outputId": "15abeb40-186d-404b-b86d-5a7b38b1947a"
      },
      "outputs": [
        {
          "name": "stdout",
          "output_type": "stream",
          "text": [
            "Hello World from EE!\n"
          ]
        }
      ],
      "source": [
        "# make sure Earth Engine calls work\n",
        "print(ee.String('Hello World from EE!').getInfo())"
      ]
    },
    {
      "cell_type": "code",
      "execution_count": null,
      "metadata": {
        "id": "CfaTm9ufhzCV",
        "outputId": "d853c258-32c6-49c8-b2a5-e5b3c3407081",
        "colab": {
          "referenced_widgets": [
            "5009727dd9a542f5bedec83ee1aa609c"
          ]
        }
      },
      "outputs": [
        {
          "data": {
            "application/vnd.jupyter.widget-view+json": {
              "model_id": "5009727dd9a542f5bedec83ee1aa609c",
              "version_major": 2,
              "version_minor": 0
            },
            "text/plain": [
              "VBox(children=(FloatSlider(value=4.0, description='Input:'), FloatText(value=16.0, description='Computed:', di…"
            ]
          },
          "execution_count": 6,
          "metadata": {},
          "output_type": "execute_result"
        }
      ],
      "source": [
        "slider = widgets.FloatSlider(description='Input:')\n",
        "text = widgets.FloatText(disabled=True, description='Computed:')\n",
        "\n",
        "def compute(*ignore):\n",
        "    text.value = str(slider.value ** 2)\n",
        "\n",
        "slider.observe(compute, 'value')\n",
        "\n",
        "slider.value = 4\n",
        "\n",
        "widgets.VBox([slider, text])"
      ]
    }
  ],
  "metadata": {
    "kernelspec": {
      "display_name": "Python 3",
      "language": "python",
      "name": "python3"
    },
    "language_info": {
      "codemirror_mode": {
        "name": "ipython",
        "version": 3
      },
      "file_extension": ".py",
      "mimetype": "text/x-python",
      "name": "python",
      "nbconvert_exporter": "python",
      "pygments_lexer": "ipython3",
      "version": "3.10.12"
    },
    "colab": {
      "provenance": [],
      "include_colab_link": true
    }
  },
  "nbformat": 4,
  "nbformat_minor": 0
}